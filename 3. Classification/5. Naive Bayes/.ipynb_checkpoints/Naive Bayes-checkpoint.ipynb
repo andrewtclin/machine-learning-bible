{
 "cells": [
  {
   "cell_type": "markdown",
   "metadata": {},
   "source": [
    "## Naive Bayes"
   ]
  },
  {
   "cell_type": "markdown",
   "metadata": {},
   "source": [
    "### Bayes' Theorem\n",
    "\n",
    "\n",
    "Let's say there are two factories, and each factory produces spanners at different rate with slightly different characteristics. But overall, they produce the same spanners, but with spanners marked differently.\n",
    "<img src='../../resources/classification/bayes/pic1.png' />\n",
    "\n",
    "\n",
    "What is the probability that **machine 2** produces a defected spanner?\n",
    "\n",
    "To get it, we use **Bayes Theorem:**\n",
    "<img src='../../resources/classification/bayes/pic2.png' />\n",
    "\n",
    "\n",
    "* Let's say:\n",
    "    * Machine 1 produces: 30 per hour; Machine 2 produces 20 per hour\n",
    "        * Total 50 produced per hour, so P(M1) = 30/50 = 0.6; P(M2) = 20/50 = 0.4\n",
    "        \n",
    "    * Out of **all** produced parts: **1%** are defective. \n",
    "        * P(Defect) = 1% (Pick up a random one from the entire pile)\n",
    "        * Out of **all** defectives:\n",
    "            * 50% from Machine 1; 50% from Machine 2\n",
    "                * P(M1 | Defect) = 50%; P(M2 | Defect) = 50%\n",
    "                * If we are **only** looking at **defective part**\n",
    "                    * **Given** that we look at **ONLY defective part**, the probability of that part is from **machine 1**.\n",
    "                    * **Given** that we look at **ONLY defective part**, the probability of that part is from **machine 2**.\n",
    "    * So, what is the probability of that a part produced by **machine 2 is defective?**\n",
    "        * P(Defect | Machine 2) = ? (**Given** that parts produced by **machine 2**, probability of defective)\n",
    "        \n",
    "    * To answer:\n",
    "        * P(Defect | Machine 2) = (P(Machine2 | Defect) * P(Defect)) / P(Machine2)\n",
    "        *  P(Defect | Machine 2) = 0.5 * 0.01 / 0.4 = 0.0125 = 1.25%"
   ]
  },
  {
   "cell_type": "markdown",
   "metadata": {},
   "source": [
    "### Naive Bayes Classifier\n",
    "\n",
    "\n",
    "2 categories in a dataset, if we add a new data point, Naive Bayes helps to determine.\n",
    "<img src='../../resources/classification/bayes/data.png' />\n",
    "\n",
    "\n",
    "To do so, we are going to apply Bayes Theorem twice.\n",
    "   * X is the feature of the observation\n",
    "   * We take Probability of both a person walks or drive given the feature X.\n",
    "<img src='../../resources/classification/bayes/step1.png' />\n",
    "<img src='../../resources/classification/bayes/step2.png' />\n",
    "\n",
    "\n",
    "   * Then, we compare both probabilities\n",
    "       * Higher probability will be the one to be predicted.\n",
    "<img src='../../resources/classification/bayes/step3.png' />"
   ]
  },
  {
   "cell_type": "code",
   "execution_count": null,
   "metadata": {},
   "outputs": [],
   "source": []
  }
 ],
 "metadata": {
  "kernelspec": {
   "display_name": "Python [conda env:data_science_playground]",
   "language": "python",
   "name": "conda-env-data_science_playground-py"
  },
  "language_info": {
   "codemirror_mode": {
    "name": "ipython",
    "version": 3
   },
   "file_extension": ".py",
   "mimetype": "text/x-python",
   "name": "python",
   "nbconvert_exporter": "python",
   "pygments_lexer": "ipython3",
   "version": "3.10.8"
  }
 },
 "nbformat": 4,
 "nbformat_minor": 4
}
