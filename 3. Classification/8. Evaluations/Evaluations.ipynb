{
 "cells": [
  {
   "cell_type": "markdown",
   "metadata": {},
   "source": [
    "## Evaluations"
   ]
  },
  {
   "cell_type": "markdown",
   "metadata": {},
   "source": [
    "### False Positive & Negatives\n",
    "\n",
    "* False Positive - Type I Error\n",
    "* False Negative - Type II Error"
   ]
  },
  {
   "cell_type": "markdown",
   "metadata": {},
   "source": [
    "### Accuracy Paradox"
   ]
  },
  {
   "cell_type": "markdown",
   "metadata": {},
   "source": [
    "<img src='../../resources/classification/evaluations/paradox1.png' />\n",
    "\n",
    "\n",
    "If we abandoned the model, then...\n",
    "<img src='../../resources/classification/evaluations/paradox2.png' />\n",
    "\n",
    "\n",
    "**Do not solely use Accuracy to judge a model**"
   ]
  },
  {
   "cell_type": "markdown",
   "metadata": {},
   "source": [
    "### CAP (Cumulative Accuracy Profile) Curve"
   ]
  },
  {
   "cell_type": "markdown",
   "metadata": {},
   "source": [
    "* Finding the number of customers to purchase our product depending on how much we contacted\n",
    "    * Approximately 10% - Blue line\n",
    "    \n",
    "    \n",
    "* Target customoers more appropriately to get more customers to purchase products using a model\n",
    "    * The red line - Cumulative Accuracy Profile of the model\n",
    "        * The better the model, the larger the area between the red & the blue line\n",
    "    \n",
    "<img src='../../resources/classification/evaluations/cap1.png' />\n",
    "\n",
    "\n",
    "* Poor model's CAP curve - green line\n",
    "* Ideal line - Crystal ball (Predict **EXACTLY** who is going to purchase)\n",
    "    * Each & every one of the customer in these 10% will purhcase -> 100%\n",
    "<img src='../../resources/classification/evaluations/cap2.png' />\n",
    "\n",
    "\n",
    "**NOTE: CAP is NOT ROC**"
   ]
  },
  {
   "cell_type": "markdown",
   "metadata": {},
   "source": [
    "### CAP Curve Analysis"
   ]
  },
  {
   "cell_type": "markdown",
   "metadata": {},
   "source": [
    "* The closer the red line to the gray line - better\n",
    "* The closer the red line to the blue line - worse\n",
    "    * The closer AR ratio to 1 the better\n",
    "\n",
    "<img src='../../resources/classification/evaluations/cap3.png' />\n",
    "\n",
    "* Taking 50% of the X & compare to DV, rule of thumb:\n",
    "<img src='../../resources/classification/evaluations/cap4.png' />"
   ]
  },
  {
   "cell_type": "code",
   "execution_count": null,
   "metadata": {},
   "outputs": [],
   "source": []
  }
 ],
 "metadata": {
  "kernelspec": {
   "display_name": "Python [conda env:data_science_playground]",
   "language": "python",
   "name": "conda-env-data_science_playground-py"
  },
  "language_info": {
   "codemirror_mode": {
    "name": "ipython",
    "version": 3
   },
   "file_extension": ".py",
   "mimetype": "text/x-python",
   "name": "python",
   "nbconvert_exporter": "python",
   "pygments_lexer": "ipython3",
   "version": "3.10.8"
  }
 },
 "nbformat": 4,
 "nbformat_minor": 4
}
