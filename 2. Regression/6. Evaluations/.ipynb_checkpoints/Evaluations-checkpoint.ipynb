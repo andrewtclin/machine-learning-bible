{
 "cells": [
  {
   "cell_type": "markdown",
   "metadata": {},
   "source": [
    "## R Squared (Determination of Coefficient)"
   ]
  },
  {
   "cell_type": "markdown",
   "metadata": {},
   "source": [
    "R^2 - Goodness of fit, greater the better\n",
    "* Residual Sum of Square - Minimize Error in linear regression\n",
    "* Total Sum of Square - Difference between yi(actual value) & average\n",
    "    * Usually, SSres is less than SStot unless it is slopping downwards.\n",
    "    * R^2 = 1 - (SSres/SStot) - ratio is **less than 1**\n",
    "        * Usually, 1.0 = Perfect fit (overfitting?)\n",
    "        * Usually, ~0.9 = Very good\n",
    "        * Usually, <0.7 = Not great\n",
    "        * Usually, <0.4 = Terrible\n",
    "        * Usallly, <0 = Model makes no sense for this data"
   ]
  },
  {
   "cell_type": "markdown",
   "metadata": {},
   "source": [
    "<img src='../../resources/regression/evaluations/graph.png' />"
   ]
  },
  {
   "cell_type": "markdown",
   "metadata": {},
   "source": [
    "### Adjusted R Squared"
   ]
  },
  {
   "cell_type": "markdown",
   "metadata": {},
   "source": [
    "Some situations, we add features that might have nothing to do with our model, but R squared increases.\n",
    "\n",
    "This formular penalizes for adding new variables, unless R^2 increases enough to compensate it."
   ]
  },
  {
   "cell_type": "markdown",
   "metadata": {},
   "source": [
    "<img src='../../resources/regression/evaluations/adjusted_r2.png' />"
   ]
  },
  {
   "cell_type": "code",
   "execution_count": null,
   "metadata": {},
   "outputs": [],
   "source": []
  }
 ],
 "metadata": {
  "kernelspec": {
   "display_name": "Python [conda env:data_science_playground]",
   "language": "python",
   "name": "conda-env-data_science_playground-py"
  },
  "language_info": {
   "codemirror_mode": {
    "name": "ipython",
    "version": 3
   },
   "file_extension": ".py",
   "mimetype": "text/x-python",
   "name": "python",
   "nbconvert_exporter": "python",
   "pygments_lexer": "ipython3",
   "version": "3.10.8"
  }
 },
 "nbformat": 4,
 "nbformat_minor": 4
}
